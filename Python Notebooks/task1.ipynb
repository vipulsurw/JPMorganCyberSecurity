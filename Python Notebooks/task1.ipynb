{
 "cells": [
  {
   "cell_type": "markdown",
   "id": "bb163b7b",
   "metadata": {
    "id": "bb163b7b"
   },
   "source": [
    "Step 1. Ensure that you have the dataset file named `transactions.csv` in the current directory.\n",
    "\n",
    "The dataset is a subset of https://www.kaggle.com/ealaxi/paysim1/version/2 which was originally generated as part of the following research:\n",
    "\n",
    "E. A. Lopez-Rojas , A. Elmir, and S. Axelsson. \"PaySim: A financial mobile money simulator for fraud detection\". In: The 28th European Modeling and Simulation Symposium-EMSS, Larnaca, Cyprus. 2016"
   ]
  },
  {
   "cell_type": "markdown",
   "id": "72c898bd",
   "metadata": {
    "id": "72c898bd"
   },
   "source": [
    "Step 2. Complete the following exercises.\n",
    "\n",
    "0. Read the dataset (`transactions.csv`) as a Pandas dataframe. Note that the first row of the CSV contains the column names.\n",
    "\n",
    "0. Return the column names as a list from the dataframe.\n",
    "\n",
    "0. Return the first k rows from the dataframe.\n",
    "\n",
    "0. Return a random sample of k rows from the dataframe.\n",
    "\n",
    "0. Return a list of the unique transaction types.\n",
    "\n",
    "0. Return a Pandas series of the top 10 transaction destinations with frequencies.\n",
    "\n",
    "0. Return all the rows from the dataframe for which fraud was detected.\n",
    "\n",
    "0. Bonus. Return a dataframe that contains the number of distinct destinations that each source has interacted with to, sorted in descending order. You will find [groupby](https://pandas.pydata.org/pandas-docs/stable/reference/api/pandas.DataFrame.groupby.html) and [agg](https://pandas.pydata.org/pandas-docs/stable/reference/api/pandas.core.groupby.DataFrameGroupBy.aggregate.html) useful. The predefined aggregate functions are under `pandas.core.groupby.GroupBy.*`. See the [left hand column](https://pandas.pydata.org/pandas-docs/stable/reference/api/pandas.core.groupby.DataFrameGroupBy.nunique.html)."
   ]
  },
  {
   "cell_type": "markdown",
   "id": "2f146b9d",
   "metadata": {
    "id": "2f146b9d"
   },
   "source": [
    "Use the empty cell to test the exercises. If you modify the original `df`, you can rerun the cell containing `exercise_0`."
   ]
  },
  {
   "cell_type": "code",
   "execution_count": 3,
   "id": "EDd3m5pMN01e",
   "metadata": {
    "id": "EDd3m5pMN01e"
   },
   "outputs": [],
   "source": [
    "import pandas as pd\n",
    "import matplotlib.pyplot as plt\n",
    "\n",
    "def exercise_0(file):\n",
    "    return pd.read_csv(file)\n",
    "\n",
    "def exercise_1(df):\n",
    "    return list(df)\n",
    "\n",
    "def exercise_2(df, k):\n",
    "    return df.head(k)\n",
    "\n",
    "def exercise_3(df, k):\n",
    "    return df.sample(n=k)\n",
    "\n",
    "def exercise_4(df):\n",
    "    return df['type'].unique()\n",
    "\n",
    "def exercise_5(df):\n",
    "    return df['nameDest'].value_counts().head(10)\n",
    "\n",
    "def exercise_6(df):\n",
    "    return df[df['isFraud'] == 1]\n",
    "\n",
    "def exercise_7(df):\n",
    "    df1 = df.groupby('nameOrig')['nameDest'].agg(['nunique'])\n",
    "    df1.sort_values(by=('nunique'), ascending=False, inplace=True)\n",
    "    return df1\n",
    "\n",
    "def visual_1(df):\n",
    "    pass\n",
    "\n",
    "def visual_2(df):\n",
    "    pass\n",
    "\n",
    "def exercise_custom(df):\n",
    "    pass\n",
    "    \n",
    "def visual_custom(df):\n",
    "    pass"
   ]
  },
  {
   "cell_type": "code",
   "execution_count": 10,
   "id": "346fc3fc",
   "metadata": {
    "id": "346fc3fc"
   },
   "outputs": [],
   "source": [
    "df = exercise_0('transactions.csv')"
   ]
  },
  {
   "cell_type": "code",
   "execution_count": 12,
   "id": "9158f0bd",
   "metadata": {
    "id": "9158f0bd"
   },
   "outputs": [
    {
     "data": {
      "text/plain": [
       "['step',\n",
       " 'type',\n",
       " 'amount',\n",
       " 'nameOrig',\n",
       " 'oldbalanceOrg',\n",
       " 'newbalanceOrig',\n",
       " 'nameDest',\n",
       " 'oldbalanceDest',\n",
       " 'newbalanceDest',\n",
       " 'isFraud',\n",
       " 'isFlaggedFraud']"
      ]
     },
     "execution_count": 12,
     "metadata": {},
     "output_type": "execute_result"
    }
   ],
   "source": [
    "# Test exercises here\n",
    "exercise_1(df)"
   ]
  },
  {
   "cell_type": "code",
   "execution_count": 13,
   "id": "30618588",
   "metadata": {},
   "outputs": [
    {
     "data": {
      "text/html": [
       "<div>\n",
       "<style scoped>\n",
       "    .dataframe tbody tr th:only-of-type {\n",
       "        vertical-align: middle;\n",
       "    }\n",
       "\n",
       "    .dataframe tbody tr th {\n",
       "        vertical-align: top;\n",
       "    }\n",
       "\n",
       "    .dataframe thead th {\n",
       "        text-align: right;\n",
       "    }\n",
       "</style>\n",
       "<table border=\"1\" class=\"dataframe\">\n",
       "  <thead>\n",
       "    <tr style=\"text-align: right;\">\n",
       "      <th></th>\n",
       "      <th>step</th>\n",
       "      <th>type</th>\n",
       "      <th>amount</th>\n",
       "      <th>nameOrig</th>\n",
       "      <th>oldbalanceOrg</th>\n",
       "      <th>newbalanceOrig</th>\n",
       "      <th>nameDest</th>\n",
       "      <th>oldbalanceDest</th>\n",
       "      <th>newbalanceDest</th>\n",
       "      <th>isFraud</th>\n",
       "      <th>isFlaggedFraud</th>\n",
       "    </tr>\n",
       "  </thead>\n",
       "  <tbody>\n",
       "    <tr>\n",
       "      <th>0</th>\n",
       "      <td>1</td>\n",
       "      <td>PAYMENT</td>\n",
       "      <td>9839.64</td>\n",
       "      <td>C1231006815</td>\n",
       "      <td>170136.0</td>\n",
       "      <td>160296.36</td>\n",
       "      <td>M1979787155</td>\n",
       "      <td>0.0</td>\n",
       "      <td>0.0</td>\n",
       "      <td>0</td>\n",
       "      <td>0</td>\n",
       "    </tr>\n",
       "    <tr>\n",
       "      <th>1</th>\n",
       "      <td>1</td>\n",
       "      <td>PAYMENT</td>\n",
       "      <td>1864.28</td>\n",
       "      <td>C1666544295</td>\n",
       "      <td>21249.0</td>\n",
       "      <td>19384.72</td>\n",
       "      <td>M2044282225</td>\n",
       "      <td>0.0</td>\n",
       "      <td>0.0</td>\n",
       "      <td>0</td>\n",
       "      <td>0</td>\n",
       "    </tr>\n",
       "    <tr>\n",
       "      <th>2</th>\n",
       "      <td>1</td>\n",
       "      <td>TRANSFER</td>\n",
       "      <td>181.00</td>\n",
       "      <td>C1305486145</td>\n",
       "      <td>181.0</td>\n",
       "      <td>0.00</td>\n",
       "      <td>C553264065</td>\n",
       "      <td>0.0</td>\n",
       "      <td>0.0</td>\n",
       "      <td>1</td>\n",
       "      <td>0</td>\n",
       "    </tr>\n",
       "  </tbody>\n",
       "</table>\n",
       "</div>"
      ],
      "text/plain": [
       "   step      type   amount     nameOrig  oldbalanceOrg  newbalanceOrig  \\\n",
       "0     1   PAYMENT  9839.64  C1231006815       170136.0       160296.36   \n",
       "1     1   PAYMENT  1864.28  C1666544295        21249.0        19384.72   \n",
       "2     1  TRANSFER   181.00  C1305486145          181.0            0.00   \n",
       "\n",
       "      nameDest  oldbalanceDest  newbalanceDest  isFraud  isFlaggedFraud  \n",
       "0  M1979787155             0.0             0.0        0               0  \n",
       "1  M2044282225             0.0             0.0        0               0  \n",
       "2   C553264065             0.0             0.0        1               0  "
      ]
     },
     "execution_count": 13,
     "metadata": {},
     "output_type": "execute_result"
    }
   ],
   "source": [
    "exercise_2(df, 3)"
   ]
  },
  {
   "cell_type": "code",
   "execution_count": 14,
   "id": "68bc8452",
   "metadata": {},
   "outputs": [
    {
     "data": {
      "text/html": [
       "<div>\n",
       "<style scoped>\n",
       "    .dataframe tbody tr th:only-of-type {\n",
       "        vertical-align: middle;\n",
       "    }\n",
       "\n",
       "    .dataframe tbody tr th {\n",
       "        vertical-align: top;\n",
       "    }\n",
       "\n",
       "    .dataframe thead th {\n",
       "        text-align: right;\n",
       "    }\n",
       "</style>\n",
       "<table border=\"1\" class=\"dataframe\">\n",
       "  <thead>\n",
       "    <tr style=\"text-align: right;\">\n",
       "      <th></th>\n",
       "      <th>step</th>\n",
       "      <th>type</th>\n",
       "      <th>amount</th>\n",
       "      <th>nameOrig</th>\n",
       "      <th>oldbalanceOrg</th>\n",
       "      <th>newbalanceOrig</th>\n",
       "      <th>nameDest</th>\n",
       "      <th>oldbalanceDest</th>\n",
       "      <th>newbalanceDest</th>\n",
       "      <th>isFraud</th>\n",
       "      <th>isFlaggedFraud</th>\n",
       "    </tr>\n",
       "  </thead>\n",
       "  <tbody>\n",
       "    <tr>\n",
       "      <th>13195</th>\n",
       "      <td>7</td>\n",
       "      <td>CASH_OUT</td>\n",
       "      <td>34798.28</td>\n",
       "      <td>C666315079</td>\n",
       "      <td>0.0</td>\n",
       "      <td>0.00</td>\n",
       "      <td>C2078522098</td>\n",
       "      <td>112759.00</td>\n",
       "      <td>0.00</td>\n",
       "      <td>0</td>\n",
       "      <td>0</td>\n",
       "    </tr>\n",
       "    <tr>\n",
       "      <th>19406</th>\n",
       "      <td>8</td>\n",
       "      <td>CASH_OUT</td>\n",
       "      <td>195760.27</td>\n",
       "      <td>C140122642</td>\n",
       "      <td>0.0</td>\n",
       "      <td>0.00</td>\n",
       "      <td>C1107146140</td>\n",
       "      <td>461177.80</td>\n",
       "      <td>1655416.88</td>\n",
       "      <td>0</td>\n",
       "      <td>0</td>\n",
       "    </tr>\n",
       "    <tr>\n",
       "      <th>27771</th>\n",
       "      <td>8</td>\n",
       "      <td>PAYMENT</td>\n",
       "      <td>17482.51</td>\n",
       "      <td>C1074834817</td>\n",
       "      <td>0.0</td>\n",
       "      <td>0.00</td>\n",
       "      <td>M1491507358</td>\n",
       "      <td>0.00</td>\n",
       "      <td>0.00</td>\n",
       "      <td>0</td>\n",
       "      <td>0</td>\n",
       "    </tr>\n",
       "    <tr>\n",
       "      <th>33309</th>\n",
       "      <td>8</td>\n",
       "      <td>CASH_IN</td>\n",
       "      <td>144445.48</td>\n",
       "      <td>C155721236</td>\n",
       "      <td>20664.0</td>\n",
       "      <td>165109.48</td>\n",
       "      <td>C1945802665</td>\n",
       "      <td>1471945.15</td>\n",
       "      <td>1321922.53</td>\n",
       "      <td>0</td>\n",
       "      <td>0</td>\n",
       "    </tr>\n",
       "  </tbody>\n",
       "</table>\n",
       "</div>"
      ],
      "text/plain": [
       "       step      type     amount     nameOrig  oldbalanceOrg  newbalanceOrig  \\\n",
       "13195     7  CASH_OUT   34798.28   C666315079            0.0            0.00   \n",
       "19406     8  CASH_OUT  195760.27   C140122642            0.0            0.00   \n",
       "27771     8   PAYMENT   17482.51  C1074834817            0.0            0.00   \n",
       "33309     8   CASH_IN  144445.48   C155721236        20664.0       165109.48   \n",
       "\n",
       "          nameDest  oldbalanceDest  newbalanceDest  isFraud  isFlaggedFraud  \n",
       "13195  C2078522098       112759.00            0.00        0               0  \n",
       "19406  C1107146140       461177.80      1655416.88        0               0  \n",
       "27771  M1491507358            0.00            0.00        0               0  \n",
       "33309  C1945802665      1471945.15      1321922.53        0               0  "
      ]
     },
     "execution_count": 14,
     "metadata": {},
     "output_type": "execute_result"
    }
   ],
   "source": [
    "exercise_3(df, 4)"
   ]
  },
  {
   "cell_type": "code",
   "execution_count": 15,
   "id": "8b4352c9",
   "metadata": {},
   "outputs": [
    {
     "data": {
      "text/plain": [
       "array(['PAYMENT', 'TRANSFER', 'CASH_OUT', 'DEBIT', 'CASH_IN'],\n",
       "      dtype=object)"
      ]
     },
     "execution_count": 15,
     "metadata": {},
     "output_type": "execute_result"
    }
   ],
   "source": [
    "exercise_4(df)"
   ]
  },
  {
   "cell_type": "code",
   "execution_count": 16,
   "id": "f5bcb6b6",
   "metadata": {},
   "outputs": [
    {
     "data": {
      "text/plain": [
       "C985934102     84\n",
       "C1286084959    80\n",
       "C248609774     75\n",
       "C2083562754    74\n",
       "C1590550415    74\n",
       "C665576141     72\n",
       "C977993101     70\n",
       "C1360767589    69\n",
       "C451111351     66\n",
       "C97730845      64\n",
       "Name: nameDest, dtype: int64"
      ]
     },
     "execution_count": 16,
     "metadata": {},
     "output_type": "execute_result"
    }
   ],
   "source": [
    "exercise_5(df)"
   ]
  },
  {
   "cell_type": "code",
   "execution_count": 17,
   "id": "9bce10ef",
   "metadata": {},
   "outputs": [
    {
     "data": {
      "text/html": [
       "<div>\n",
       "<style scoped>\n",
       "    .dataframe tbody tr th:only-of-type {\n",
       "        vertical-align: middle;\n",
       "    }\n",
       "\n",
       "    .dataframe tbody tr th {\n",
       "        vertical-align: top;\n",
       "    }\n",
       "\n",
       "    .dataframe thead th {\n",
       "        text-align: right;\n",
       "    }\n",
       "</style>\n",
       "<table border=\"1\" class=\"dataframe\">\n",
       "  <thead>\n",
       "    <tr style=\"text-align: right;\">\n",
       "      <th></th>\n",
       "      <th>step</th>\n",
       "      <th>type</th>\n",
       "      <th>amount</th>\n",
       "      <th>nameOrig</th>\n",
       "      <th>oldbalanceOrg</th>\n",
       "      <th>newbalanceOrig</th>\n",
       "      <th>nameDest</th>\n",
       "      <th>oldbalanceDest</th>\n",
       "      <th>newbalanceDest</th>\n",
       "      <th>isFraud</th>\n",
       "      <th>isFlaggedFraud</th>\n",
       "    </tr>\n",
       "  </thead>\n",
       "  <tbody>\n",
       "    <tr>\n",
       "      <th>2</th>\n",
       "      <td>1</td>\n",
       "      <td>TRANSFER</td>\n",
       "      <td>181.00</td>\n",
       "      <td>C1305486145</td>\n",
       "      <td>181.00</td>\n",
       "      <td>0.0</td>\n",
       "      <td>C553264065</td>\n",
       "      <td>0.00</td>\n",
       "      <td>0.00</td>\n",
       "      <td>1</td>\n",
       "      <td>0</td>\n",
       "    </tr>\n",
       "    <tr>\n",
       "      <th>3</th>\n",
       "      <td>1</td>\n",
       "      <td>CASH_OUT</td>\n",
       "      <td>181.00</td>\n",
       "      <td>C840083671</td>\n",
       "      <td>181.00</td>\n",
       "      <td>0.0</td>\n",
       "      <td>C38997010</td>\n",
       "      <td>21182.00</td>\n",
       "      <td>0.00</td>\n",
       "      <td>1</td>\n",
       "      <td>0</td>\n",
       "    </tr>\n",
       "    <tr>\n",
       "      <th>251</th>\n",
       "      <td>1</td>\n",
       "      <td>TRANSFER</td>\n",
       "      <td>2806.00</td>\n",
       "      <td>C1420196421</td>\n",
       "      <td>2806.00</td>\n",
       "      <td>0.0</td>\n",
       "      <td>C972765878</td>\n",
       "      <td>0.00</td>\n",
       "      <td>0.00</td>\n",
       "      <td>1</td>\n",
       "      <td>0</td>\n",
       "    </tr>\n",
       "    <tr>\n",
       "      <th>252</th>\n",
       "      <td>1</td>\n",
       "      <td>CASH_OUT</td>\n",
       "      <td>2806.00</td>\n",
       "      <td>C2101527076</td>\n",
       "      <td>2806.00</td>\n",
       "      <td>0.0</td>\n",
       "      <td>C1007251739</td>\n",
       "      <td>26202.00</td>\n",
       "      <td>0.00</td>\n",
       "      <td>1</td>\n",
       "      <td>0</td>\n",
       "    </tr>\n",
       "    <tr>\n",
       "      <th>680</th>\n",
       "      <td>1</td>\n",
       "      <td>TRANSFER</td>\n",
       "      <td>20128.00</td>\n",
       "      <td>C137533655</td>\n",
       "      <td>20128.00</td>\n",
       "      <td>0.0</td>\n",
       "      <td>C1848415041</td>\n",
       "      <td>0.00</td>\n",
       "      <td>0.00</td>\n",
       "      <td>1</td>\n",
       "      <td>0</td>\n",
       "    </tr>\n",
       "    <tr>\n",
       "      <th>...</th>\n",
       "      <td>...</td>\n",
       "      <td>...</td>\n",
       "      <td>...</td>\n",
       "      <td>...</td>\n",
       "      <td>...</td>\n",
       "      <td>...</td>\n",
       "      <td>...</td>\n",
       "      <td>...</td>\n",
       "      <td>...</td>\n",
       "      <td>...</td>\n",
       "      <td>...</td>\n",
       "    </tr>\n",
       "    <tr>\n",
       "      <th>182862</th>\n",
       "      <td>13</td>\n",
       "      <td>CASH_OUT</td>\n",
       "      <td>408.00</td>\n",
       "      <td>C1894004688</td>\n",
       "      <td>408.00</td>\n",
       "      <td>0.0</td>\n",
       "      <td>C1293978242</td>\n",
       "      <td>898297.85</td>\n",
       "      <td>1075854.14</td>\n",
       "      <td>1</td>\n",
       "      <td>0</td>\n",
       "    </tr>\n",
       "    <tr>\n",
       "      <th>193765</th>\n",
       "      <td>13</td>\n",
       "      <td>TRANSFER</td>\n",
       "      <td>48375.02</td>\n",
       "      <td>C920803432</td>\n",
       "      <td>48375.02</td>\n",
       "      <td>0.0</td>\n",
       "      <td>C1767389067</td>\n",
       "      <td>0.00</td>\n",
       "      <td>0.00</td>\n",
       "      <td>1</td>\n",
       "      <td>0</td>\n",
       "    </tr>\n",
       "    <tr>\n",
       "      <th>193766</th>\n",
       "      <td>13</td>\n",
       "      <td>CASH_OUT</td>\n",
       "      <td>48375.02</td>\n",
       "      <td>C1894578299</td>\n",
       "      <td>48375.02</td>\n",
       "      <td>0.0</td>\n",
       "      <td>C590035788</td>\n",
       "      <td>374803.26</td>\n",
       "      <td>658520.33</td>\n",
       "      <td>1</td>\n",
       "      <td>0</td>\n",
       "    </tr>\n",
       "    <tr>\n",
       "      <th>196775</th>\n",
       "      <td>13</td>\n",
       "      <td>TRANSFER</td>\n",
       "      <td>4022667.54</td>\n",
       "      <td>C735463888</td>\n",
       "      <td>4022667.54</td>\n",
       "      <td>0.0</td>\n",
       "      <td>C1548348754</td>\n",
       "      <td>0.00</td>\n",
       "      <td>0.00</td>\n",
       "      <td>1</td>\n",
       "      <td>0</td>\n",
       "    </tr>\n",
       "    <tr>\n",
       "      <th>196776</th>\n",
       "      <td>13</td>\n",
       "      <td>CASH_OUT</td>\n",
       "      <td>4022667.54</td>\n",
       "      <td>C79951219</td>\n",
       "      <td>4022667.54</td>\n",
       "      <td>0.0</td>\n",
       "      <td>C1499489682</td>\n",
       "      <td>80136.56</td>\n",
       "      <td>4057191.21</td>\n",
       "      <td>1</td>\n",
       "      <td>0</td>\n",
       "    </tr>\n",
       "  </tbody>\n",
       "</table>\n",
       "<p>147 rows × 11 columns</p>\n",
       "</div>"
      ],
      "text/plain": [
       "        step      type      amount     nameOrig  oldbalanceOrg  \\\n",
       "2          1  TRANSFER      181.00  C1305486145         181.00   \n",
       "3          1  CASH_OUT      181.00   C840083671         181.00   \n",
       "251        1  TRANSFER     2806.00  C1420196421        2806.00   \n",
       "252        1  CASH_OUT     2806.00  C2101527076        2806.00   \n",
       "680        1  TRANSFER    20128.00   C137533655       20128.00   \n",
       "...      ...       ...         ...          ...            ...   \n",
       "182862    13  CASH_OUT      408.00  C1894004688         408.00   \n",
       "193765    13  TRANSFER    48375.02   C920803432       48375.02   \n",
       "193766    13  CASH_OUT    48375.02  C1894578299       48375.02   \n",
       "196775    13  TRANSFER  4022667.54   C735463888     4022667.54   \n",
       "196776    13  CASH_OUT  4022667.54    C79951219     4022667.54   \n",
       "\n",
       "        newbalanceOrig     nameDest  oldbalanceDest  newbalanceDest  isFraud  \\\n",
       "2                  0.0   C553264065            0.00            0.00        1   \n",
       "3                  0.0    C38997010        21182.00            0.00        1   \n",
       "251                0.0   C972765878            0.00            0.00        1   \n",
       "252                0.0  C1007251739        26202.00            0.00        1   \n",
       "680                0.0  C1848415041            0.00            0.00        1   \n",
       "...                ...          ...             ...             ...      ...   \n",
       "182862             0.0  C1293978242       898297.85      1075854.14        1   \n",
       "193765             0.0  C1767389067            0.00            0.00        1   \n",
       "193766             0.0   C590035788       374803.26       658520.33        1   \n",
       "196775             0.0  C1548348754            0.00            0.00        1   \n",
       "196776             0.0  C1499489682        80136.56      4057191.21        1   \n",
       "\n",
       "        isFlaggedFraud  \n",
       "2                    0  \n",
       "3                    0  \n",
       "251                  0  \n",
       "252                  0  \n",
       "680                  0  \n",
       "...                ...  \n",
       "182862               0  \n",
       "193765               0  \n",
       "193766               0  \n",
       "196775               0  \n",
       "196776               0  \n",
       "\n",
       "[147 rows x 11 columns]"
      ]
     },
     "execution_count": 17,
     "metadata": {},
     "output_type": "execute_result"
    }
   ],
   "source": [
    "exercise_6(df)"
   ]
  },
  {
   "cell_type": "code",
   "execution_count": 18,
   "id": "ef399329",
   "metadata": {},
   "outputs": [
    {
     "data": {
      "text/html": [
       "<div>\n",
       "<style scoped>\n",
       "    .dataframe tbody tr th:only-of-type {\n",
       "        vertical-align: middle;\n",
       "    }\n",
       "\n",
       "    .dataframe tbody tr th {\n",
       "        vertical-align: top;\n",
       "    }\n",
       "\n",
       "    .dataframe thead th {\n",
       "        text-align: right;\n",
       "    }\n",
       "</style>\n",
       "<table border=\"1\" class=\"dataframe\">\n",
       "  <thead>\n",
       "    <tr style=\"text-align: right;\">\n",
       "      <th></th>\n",
       "      <th>nunique</th>\n",
       "    </tr>\n",
       "    <tr>\n",
       "      <th>nameOrig</th>\n",
       "      <th></th>\n",
       "    </tr>\n",
       "  </thead>\n",
       "  <tbody>\n",
       "    <tr>\n",
       "      <th>C745009740</th>\n",
       "      <td>2</td>\n",
       "    </tr>\n",
       "    <tr>\n",
       "      <th>C260230637</th>\n",
       "      <td>2</td>\n",
       "    </tr>\n",
       "    <tr>\n",
       "      <th>C44568807</th>\n",
       "      <td>2</td>\n",
       "    </tr>\n",
       "    <tr>\n",
       "      <th>C1709295811</th>\n",
       "      <td>2</td>\n",
       "    </tr>\n",
       "    <tr>\n",
       "      <th>C361604284</th>\n",
       "      <td>1</td>\n",
       "    </tr>\n",
       "    <tr>\n",
       "      <th>...</th>\n",
       "      <td>...</td>\n",
       "    </tr>\n",
       "    <tr>\n",
       "      <th>C1648185402</th>\n",
       "      <td>1</td>\n",
       "    </tr>\n",
       "    <tr>\n",
       "      <th>C1648194899</th>\n",
       "      <td>1</td>\n",
       "    </tr>\n",
       "    <tr>\n",
       "      <th>C1648216508</th>\n",
       "      <td>1</td>\n",
       "    </tr>\n",
       "    <tr>\n",
       "      <th>C1648222711</th>\n",
       "      <td>1</td>\n",
       "    </tr>\n",
       "    <tr>\n",
       "      <th>C999983894</th>\n",
       "      <td>1</td>\n",
       "    </tr>\n",
       "  </tbody>\n",
       "</table>\n",
       "<p>199996 rows × 1 columns</p>\n",
       "</div>"
      ],
      "text/plain": [
       "             nunique\n",
       "nameOrig            \n",
       "C745009740         2\n",
       "C260230637         2\n",
       "C44568807          2\n",
       "C1709295811        2\n",
       "C361604284         1\n",
       "...              ...\n",
       "C1648185402        1\n",
       "C1648194899        1\n",
       "C1648216508        1\n",
       "C1648222711        1\n",
       "C999983894         1\n",
       "\n",
       "[199996 rows x 1 columns]"
      ]
     },
     "execution_count": 18,
     "metadata": {},
     "output_type": "execute_result"
    }
   ],
   "source": [
    "exercise_7(df)"
   ]
  },
  {
   "cell_type": "code",
   "execution_count": null,
   "id": "126a999d",
   "metadata": {},
   "outputs": [],
   "source": []
  },
  {
   "cell_type": "code",
   "execution_count": null,
   "id": "82ca1699",
   "metadata": {},
   "outputs": [],
   "source": []
  },
  {
   "cell_type": "markdown",
   "id": "ed2dc2f4",
   "metadata": {
    "id": "ed2dc2f4"
   },
   "source": [
    "Create graphs for the following. \n",
    "1. Transaction types bar chart, Transaction types split by fraud bar chart\n",
    "1. Origin account balance delta v. Destination account balance delta scatter plot for Cash Out transactions\n",
    "\n",
    "Ensure that the graphs have the following:\n",
    " - Title\n",
    " - Labeled Axes\n",
    " \n",
    "The function plot the graph and then return a string containing a short description explaining the relevance of the chart."
   ]
  },
  {
   "cell_type": "code",
   "execution_count": 20,
   "id": "ab229b34",
   "metadata": {
    "id": "ab229b34"
   },
   "outputs": [
    {
     "data": {
      "text/plain": [
       "'While the transaction frequencies depend on the whims of the available data, what is interesting here is that fraudulent activity is only seen on CASH_OUT and TRANSFER transactions. This insight inform management to focus the effort of manual reviews which could result in less fraud being missed.'"
      ]
     },
     "execution_count": 20,
     "metadata": {},
     "output_type": "execute_result"
    },
    {
     "data": {
      "image/png": "[encoded data removed]",
      "text/plain": [
       "<Figure size 432x720 with 2 Axes>"
      ]
     },
     "metadata": {
      "needs_background": "light"
     },
     "output_type": "display_data"
    }
   ],
   "source": [
    "def visual_1(df):\n",
    "    def transaction_counts(df):\n",
    "        return df['type'].value_counts()\n",
    "    def transaction_counts_split_by_fraud(df):\n",
    "        return df.groupby(by=['type', 'isFraud']).size()\n",
    "\n",
    "    fig, axs = plt.subplots(2, figsize=(6,10))\n",
    "    transaction_counts(df).plot(ax=axs[0], kind='bar')\n",
    "    axs[0].set_title('Transaction Types Frequencies')\n",
    "    axs[0].set_xlabel('Transaction Type')\n",
    "    axs[0].set_ylabel('Occurrence')\n",
    "    transaction_counts_split_by_fraud(df).plot(ax=axs[1], kind='bar')\n",
    "    axs[1].set_title('Transaction Types Frequencies, Split by Fraud')\n",
    "    axs[1].set_xlabel('Transaction Type, Fraud')\n",
    "    axs[1].set_ylabel('Occurrence')\n",
    "    fig.suptitle('Transaction Types')\n",
    "    fig.tight_layout(rect=[0, 0.03, 1, 0.95])\n",
    "    for ax in axs:\n",
    "      for p in ax.patches:\n",
    "          ax.annotate(p.get_height(), (p.get_x(), p.get_height()))\n",
    "    return 'While the transaction frequencies depend on the whims of the ' \\\n",
    "           'available data, what is interesting here is that fraudulent ' \\\n",
    "           'activity is only seen on CASH_OUT and TRANSFER transactions. '\\\n",
    "           'This insight inform management to focus the effort of manual '\\\n",
    "           'reviews which could result in less fraud being missed.'\n",
    "\n",
    "visual_1(df)"
   ]
  },
  {
   "cell_type": "code",
   "execution_count": 21,
   "id": "38ab2f47",
   "metadata": {
    "id": "38ab2f47"
   },
   "outputs": [
    {
     "data": {
      "text/plain": [
       "'A cash out occurs when a partipant withdraws money. It is reassuring that only two of the four quadrants have activity, as the contrary would indicate something wrong with the dataset. The y=-x line is particularly interesting as it indicates instant settlement.'"
      ]
     },
     "execution_count": 21,
     "metadata": {},
     "output_type": "execute_result"
    },
    {
     "data": {
      "image/png": "[encoded data removed]",
      "text/plain": [
       "<Figure size 432x288 with 1 Axes>"
      ]
     },
     "metadata": {
      "needs_background": "light"
     },
     "output_type": "display_data"
    }
   ],
   "source": [
    "def visual_2(df):\n",
    "    def query(df):\n",
    "        df['Origin Delta'] = df['oldbalanceOrg'] -\tdf['newbalanceOrig']\n",
    "        df['Destination Delta'] = df['oldbalanceDest'] -\tdf['newbalanceDest']\n",
    "        return df[df['type']=='CASH_OUT']\n",
    "    plot = query(df).plot.scatter(x='Origin Delta',y='Destination Delta')\n",
    "    plot.set_title('Source v. Destination Balance Delta for Cash Out Transactions')\n",
    "    plot.set_xlim(left=-1e3, right=1e3)\n",
    "    plot.set_ylim(bottom=-1e3, top=1e3)\n",
    "    return 'A cash out occurs when a partipant withdraws money. It is reassuring '\\\n",
    "           'that only two of the four quadrants have activity, as the contrary '\\\n",
    "           'would indicate something wrong with the dataset. The y=-x line is '\\\n",
    "           'particularly interesting as it indicates instant settlement.'\n",
    "\n",
    "visual_2(df)\n"
   ]
  },
  {
   "cell_type": "markdown",
   "id": "f572d06d",
   "metadata": {
    "id": "f572d06d"
   },
   "source": [
    "Use your newly-gained Pandas skills to find an insight from the dataset. You have full flexibility to go in whichever direction interests you. Please create a visual as above for this query. `visual_custom` should call `exercise_custom`."
   ]
  },
  {
   "cell_type": "code",
   "execution_count": null,
   "id": "5393e5c5",
   "metadata": {
    "id": "5393e5c5"
   },
   "outputs": [],
   "source": [
    "def exercise_custom(df):\n",
    "    return df[['isFlaggedFraud', 'isFraud']].value_counts()\n",
    "    \n",
    "def visual_custom(df):\n",
    "    fig, ax = plt.subplots(1, figsize=(4,6))\n",
    "    exercise_custom(df).plot(ax=ax, kind='bar')\n",
    "    ax.set_title('Fraud Detection')\n",
    "    ax.set_xlabel('isFlaggedFraud, isFraud')\n",
    "    ax.set_ylabel('Occurrence')\n",
    "    for p in ax.patches:\n",
    "        ax.annotate(p.get_height(), (p.get_x(), p.get_height()))\n",
    "\n",
    "    return \"Here we see that the fraud detection at play misses almost all \"\\\n",
    "           \"of the fradulent activity. However, there are no false negatives \"\\\n",
    "           \"either. One interpretation could be that the detector does not \"\\\n",
    "           \"report until it has a high degree of confidence.\"\n",
    "\n",
    "visual_custom(df)"
   ]
  },
  {
   "cell_type": "markdown",
   "id": "ddecc786",
   "metadata": {
    "id": "ddecc786"
   },
   "source": [
    "Submission\n",
    "\n",
    "1. Copy the exercises into `task1.py`.\n",
    "2. Upload `task1.py` to Forage."
   ]
  },
  {
   "cell_type": "markdown",
   "id": "qpIxC3xgQpOo",
   "metadata": {
    "id": "qpIxC3xgQpOo"
   },
   "source": [
    "All done!\n",
    "\n",
    "Your work will be instrumental for our team's continued success."
   ]
  }
 ],
 "metadata": {
  "colab": {
   "collapsed_sections": [],
   "name": "task1.ipynb",
   "provenance": []
  },
  "kernelspec": {
   "display_name": "Python 3",
   "language": "python",
   "name": "python3"
  },
  "language_info": {
   "codemirror_mode": {
    "name": "ipython",
    "version": 3
   },
   "file_extension": ".py",
   "mimetype": "text/x-python",
   "name": "python",
   "nbconvert_exporter": "python",
   "pygments_lexer": "ipython3",
   "version": "3.8.8"
  }
 },
 "nbformat": 4,
 "nbformat_minor": 5
}
